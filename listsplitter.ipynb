{
  "nbformat": 4,
  "nbformat_minor": 0,
  "metadata": {
    "colab": {
      "provenance": [],
      "authorship_tag": "ABX9TyMyP7GS2eIdqKZkvrZoyhFK",
      "include_colab_link": true
    },
    "kernelspec": {
      "name": "python3",
      "display_name": "Python 3"
    },
    "language_info": {
      "name": "python"
    }
  },
  "cells": [
    {
      "cell_type": "markdown",
      "metadata": {
        "id": "view-in-github",
        "colab_type": "text"
      },
      "source": [
        "<a href=\"https://colab.research.google.com/github/kulbinderdio/lovebrain/blob/main/listsplitter.ipynb\" target=\"_parent\"><img src=\"https://colab.research.google.com/assets/colab-badge.svg\" alt=\"Open In Colab\"/></a>"
      ]
    },
    {
      "cell_type": "code",
      "execution_count": 2,
      "metadata": {
        "id": "TtKd8IVSGAe-"
      },
      "outputs": [],
      "source": [
        "import datetime\n",
        "\n",
        "# Get today's date\n",
        "current_date = datetime.date.today()\n",
        "\n",
        "# Open text file for reading\n",
        "with open('italian.txt','r') as f:\n",
        "\n",
        "    # Read all lines\n",
        "    lines = f.readlines()\n",
        "\n",
        "    # Track file chunk number\n",
        "    chunk = 1\n",
        "\n",
        "    # Iterate over lines\n",
        "    for i in range(0, len(lines), 30):\n",
        "\n",
        "        # Calculate future dates\n",
        "        one_day = current_date + datetime.timedelta(days=1)\n",
        "        one_week = current_date + datetime.timedelta(weeks=1)\n",
        "        one_month = current_date + datetime.timedelta(days=30)\n",
        "\n",
        "        # Create chunk file name with dates\n",
        "        filename = 'data_' + str(current_date) + '_' + str(one_day) + '_' + str(one_week) + '_' + str(one_month) + '_' + str(chunk) + '.txt'\n",
        "\n",
        "        # Write lines to chunk file\n",
        "        with open(filename,'w') as outf:\n",
        "            outf.writelines(lines[i:i+30])\n",
        "\n",
        "        # Increment date and chunk number\n",
        "        current_date += datetime.timedelta(days=1)\n",
        "        chunk += 1"
      ]
    }
  ]
}